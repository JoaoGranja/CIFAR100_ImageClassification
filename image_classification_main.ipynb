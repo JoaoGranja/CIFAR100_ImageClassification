{
 "cells": [
  {
   "cell_type": "markdown",
   "metadata": {
    "id": "view-in-github"
   },
   "source": [
    "<a href=\"https://colab.research.google.com/github/JoaoGranja/CIFAR10_ImageClassification/blob/master/image_classification_main.ipynb\" target=\"_parent\"><img src=\"https://colab.research.google.com/assets/colab-badge.svg\" alt=\"Open In Colab\"/></a>"
   ]
  },
  {
   "cell_type": "code",
   "execution_count": 1,
   "metadata": {
    "id": "fug7eGzTzLbg"
   },
   "outputs": [],
   "source": [
    "import numpy as np # linear algebra\n",
    "import pandas as pd # data processing, CSV file I/O (e.g. pd.read_csv)\n",
    "import os\n",
    "is_colab = False"
   ]
  },
  {
   "cell_type": "markdown",
   "metadata": {
    "id": "6PycgYA0ppQa"
   },
   "source": [
    "\n",
    "# **Colab Preparation** \n",
    "Before handling the project, we need to install keras and pip packages. I also share my google drive to simplify the connection with my google drive account.\n",
    "\n"
   ]
  },
  {
   "cell_type": "code",
   "execution_count": 2,
   "metadata": {
    "colab": {
     "base_uri": "https://localhost:8080/"
    },
    "id": "8j5egONdppQb",
    "outputId": "bcd29bed-9846-4589-f733-1087795e150e"
   },
   "outputs": [],
   "source": [
    "if is_colab:\n",
    "    #Package Installation and share Google Drive\n",
    "    !pip install --upgrade pip\n",
    "    #!pip install --upgrade keras\n",
    "    !pip install keras-resnet\n",
    "    !pip install tensorflow==2.3.0\n",
    "    !pip install tensorflow-gpu==2.3.0\n",
    "    !pip install keras==2.4\n",
    "\n",
    "    from google.colab import drive\n",
    "    drive.mount('/content/drive')"
   ]
  },
  {
   "cell_type": "markdown",
   "metadata": {
    "id": "NToyjnZ4Uc2k"
   },
   "source": [
    " # **Configuration and imports**\n",
    "\n",
    "First thing I do is to import all modules we need for this project. I also use some configuration parameters to be used through the project\n",
    "\n",
    "In this project I will be making use of the Keras library for creating our model and training it. I will also use Matplotlib and Seaborn for visualizing our dataset to gain a better understanding of the images we are going to be handling. Another important library to handle image data is Opencv.\n",
    "\n"
   ]
  },
  {
   "cell_type": "code",
   "execution_count": 3,
   "metadata": {
    "id": "Rk78b8REzLbl"
   },
   "outputs": [],
   "source": [
    "# Generic Imports\n",
    "import time\n",
    "import gc\n",
    "import logging, os\n",
    "import sys\n",
    "import random\n",
    "import warnings\n",
    "import pickle\n",
    "from math import ceil\n",
    "from tqdm import tqdm\n",
    "from itertools import chain\n",
    "\n",
    "# data processing and visualization library\n",
    "import numpy as np\n",
    "import pandas as pd\n",
    "import seaborn as sns\n",
    "import matplotlib.pyplot as plt\n",
    "\n",
    "# image procesing library\n",
    "from skimage.io import imread, imshow, imread_collection, concatenate_images\n",
    "from skimage.transform import resize\n",
    "from skimage.morphology import label\n",
    "import cv2 \n",
    "\n",
    "# tensorflow and keras for CNN model\n",
    "import tensorflow as tf\n",
    "logging.disable(logging.WARNING)\n",
    "os.environ[\"TF_CPP_MIN_LOG_LEVEL\"] = \"3\"\n",
    "\n",
    "from tensorflow.keras.models import Model, save_model, load_model, Sequential\n",
    "from tensorflow.keras.callbacks import EarlyStopping, ModelCheckpoint, TensorBoard, ReduceLROnPlateau\n",
    "from tensorflow.keras.optimizers import RMSprop, Adam, SGD\n",
    "from tensorflow.keras import backend as K\n",
    "from tensorflow.keras.losses import categorical_crossentropy, sparse_categorical_crossentropy\n",
    "from tensorflow.keras.datasets import cifar10\n",
    "#from keras.utils import multi_gpu_model\n",
    "from tensorflow.keras.preprocessing.image import Iterator, load_img, img_to_array\n",
    "\n",
    "if is_colab:\n",
    "    from google.colab import files\n",
    "    sys.path.append('/content/drive/MyDrive/colab/CIFAR100_Image_Classification')\n",
    "    os.chdir('/content/drive/MyDrive/colab/CIFAR100_Image_Classification')\n",
    "    \n",
    "#------------------------------  Set some configuration parameters -----------------------------------#\n",
    "args = {}\n",
    "args['seed'] = 42\n",
    "args['data_augmentation'] = False\n",
    "args['training'] = False\n",
    "\n",
    "#training arguments\n",
    "args['batch_size'] = 32\n",
    "args['epochs'] = 10\n",
    "args['validation_split'] = 0.2\n",
    "\n",
    "#model arguments\n",
    "args['networks'] = ['LeNet', 'VGG16', 'VGG19']\n",
    "#args['networks'] = ['LeNet']\n",
    "\n",
    "#optimizer arguments\n",
    "args['optimizer'] = 'adam'\n",
    "args['learning_rate'] = 0.001\n",
    "args['decay'] = 0.0001\n",
    "args['loss'] = 'sparse_categorical_crossentropy'\n",
    "\n",
    "warnings.filterwarnings('ignore', category=UserWarning, module='skimage')"
   ]
  },
  {
   "cell_type": "markdown",
   "metadata": {
    "id": "tjI2CcCKppQe"
   },
   "source": [
    "## Loading the dataset\n",
    "\n",
    "In this project I will use the CIFAR100 dataset which is comprised of 60000 32x32 color images in 100 classes, with 600 images per class. There are 50000 training images and 10000 test images. More information is available on [CIFAR homepage](https://www.cs.toronto.edu/~kriz/cifar.html)|"
   ]
  },
  {
   "cell_type": "code",
   "execution_count": 4,
   "metadata": {
    "id": "32RfKAg6ppQf"
   },
   "outputs": [],
   "source": [
    "def unpickle(file):\n",
    "    with open(file, 'rb') as data:\n",
    "        dataset = pickle.load(data)\n",
    "    return dataset"
   ]
  },
  {
   "cell_type": "code",
   "execution_count": 5,
   "metadata": {
    "colab": {
     "base_uri": "https://localhost:8080/"
    },
    "id": "_T8_V1PqppQg",
    "outputId": "ba6bf520-e8f2-4bcd-d5d1-40134bb101f8"
   },
   "outputs": [
    {
     "name": "stdout",
     "output_type": "stream",
     "text": [
      "Train dataset: x=(50000, 32, 32, 3) y=(50000, 1)\n",
      "Image data shape = (32, 32, 3)\n",
      "Number of classes = 100\n",
      "Test dataset: x=(10000, 32, 32, 3) y=(10000, 1)\n"
     ]
    }
   ],
   "source": [
    "#------------------------------  Load dataset using keras.dataset API -----------------------------------#\n",
    "download_dataset = False\n",
    "if download_dataset:\n",
    "    train_ds, valid_ds = cifar100.load_data()\n",
    "    dataset = {}\n",
    "    dataset['train_ds'], dataset['valid_ds'] = train_ds, valid_ds\n",
    "    with open('dataset/cifar100.pickle', 'wb') as output:\n",
    "        pickle.dump(dataset, output)\n",
    "else:\n",
    "    dataset = unpickle('dataset/cifar100.pickle')\n",
    "    train_ds, valid_ds = dataset['train_ds'], dataset['valid_ds']\n",
    "\n",
    "\n",
    "#Check train and test dataset shape\n",
    "x_train, y_train = train_ds\n",
    "print(\"Train dataset: x={} y={}\".format(x_train.shape, y_train.shape))\n",
    "#Check number of classes and image shape\n",
    "print(\"Image data shape =\", x_train.shape[1:])\n",
    "nr_classes = len(np.unique(y_train))\n",
    "print(\"Number of classes =\", nr_classes )\n",
    "\n",
    "x_test, y_test = valid_ds\n",
    "print(\"Test dataset: x={} y={}\".format(x_test.shape, y_test.shape))\n",
    "   "
   ]
  },
  {
   "cell_type": "code",
   "execution_count": 6,
   "metadata": {
    "colab": {
     "base_uri": "https://localhost:8080/",
     "height": 180
    },
    "id": "2v20CtzuppQj",
    "outputId": "14b1347d-e55c-4069-e498-8ec4ddfe7eee"
   },
   "outputs": [
    {
     "data": {
      "image/png": "[encoded data removed]",
      "text/plain": [
       "<Figure size 864x864 with 5 Axes>"
      ]
     },
     "metadata": {
      "needs_background": "light"
     },
     "output_type": "display_data"
    }
   ],
   "source": [
    "#------------------------------ Plot random images and respective labels -----------------------------------#\n",
    "n_images = 5\n",
    "fig, axs = plt.subplots(1, n_images, figsize=(12, 12))\n",
    "fig.tight_layout(pad=1.0)\n",
    "   \n",
    "for i in range(n_images):\n",
    "    index = random.randint(0, len(x_train))\n",
    "    image = x_train[index].squeeze()\n",
    "\n",
    "    axs[i].imshow(image)\n",
    "    axs[i].set_title(\"Label = {0}\".format(int(y_train[index])))\n",
    "    axs[i].get_xaxis().set_visible(False)\n",
    "    axs[i].get_yaxis().set_visible(False)\n"
   ]
  },
  {
   "cell_type": "markdown",
   "metadata": {
    "id": "hLijVktappQk"
   },
   "source": [
    "Analyzing the images it is clear that the images resolution is small, actually 32x32 has few pixels and therefore can be a challenge for a model to classify correctly the object. Furthermore all image has the same size so it is not required to resize the input images."
   ]
  },
  {
   "cell_type": "markdown",
   "metadata": {
    "id": "Q9i_voo8zLbs"
   },
   "source": [
    "# **Pre-processing the train and test dataset**"
   ]
  },
  {
   "cell_type": "code",
   "execution_count": 7,
   "metadata": {
    "colab": {
     "base_uri": "https://localhost:8080/"
    },
    "id": "YZGByJN1ppQo",
    "outputId": "512c242c-4dc5-47a7-aa9c-1fa5a44daeb0"
   },
   "outputs": [],
   "source": [
    "#------------------------------ Random data augmentation -----------------------------------#\n",
    "if args['data_augmentation']:\n",
    "    train_datagen = ImageDataGenerator(\n",
    "                        rescale=1./255,\n",
    "                        featurewise_center=True,\n",
    "                        featurewise_std_normalization=True,\n",
    "                        rotation_range=20,\n",
    "                        width_shift_range=0.2,\n",
    "                        height_shift_range=0.2,\n",
    "                        horizontal_flip=True,\n",
    "                        validation_split=0.2)\n",
    "    # prepare iterator\n",
    "    train_generator = train_datagen.flow(x_train, y_train, batch_size=args['batch_size'])\n",
    "\n",
    "    \n",
    "    test_datagen = ImageDataGenerator(rescale=1./255)   \n",
    "    validation_generator = test_datagen.flow(x_test, y_test, batch_size=args['batch_size'])\n",
    "\n",
    "else:\n",
    "    train_datagen = ImageDataGenerator(rescale=1./255)   \n",
    "    train_generator = train_datagen.flow(x_train, y_train, batch_size=args['batch_size'])\n",
    "    validation_generator = train_datagen.flow(x_test, y_test, batch_size=args['batch_size'])\n",
    "\n"
   ]
  },
  {
   "cell_type": "markdown",
   "metadata": {
    "id": "_QCnufRUl-Z5"
   },
   "source": [
    "# **Optimizer**\n",
    "\n",
    "Before training it is necessary to choose an optimizer which will be responsible to adjust model parameters in order to reduce the loss funcion"
   ]
  },
  {
   "cell_type": "code",
   "execution_count": 8,
   "metadata": {
    "id": "INAQZOJSphOA"
   },
   "outputs": [],
   "source": [
    "#------------------------------ Define an optimizer -----------------------------------#\n",
    "if 'optimizer' in args:\n",
    "    if args['optimizer'] == 'rmsprop':\n",
    "        optimizer = RMSprop(learning_rate=args['learning_rate'], decay=float(args['decay']))\n",
    "    elif args['optimizer'] == 'adam':\n",
    "        optimizer = Adam(learning_rate=args['learning_rate'], decay=float(args['decay']))\n",
    "    elif args['optimizer'] == 'amsgrad':\n",
    "        optimizer = Adam(learning_rate=args['learning_rate'], decay=float(args['decay']), amsgrad=True)\n",
    "    elif args['optimizer'] == 'sgd':\n",
    "        optimizer = SGD(learning_rate=args['learning_rate'], momentum=0.9, nesterov=True, decay=float(args['decay']))\n",
    "else:\n",
    "    optimizer = RMSprop(learning_rate=args['learning_rate'])"
   ]
  },
  {
   "cell_type": "markdown",
   "metadata": {
    "id": "sWLJo5_bppQs"
   },
   "source": [
    "# **Model**\n",
    "\n",
    "In this project, I will first use a simple CNN model following the LeNet architecture."
   ]
  },
  {
   "cell_type": "code",
   "execution_count": 9,
   "metadata": {
    "colab": {
     "base_uri": "https://localhost:8080/"
    },
    "id": "gd5VM-R-Su0_",
    "outputId": "96665922-7b6a-4426-d849-c9d961d22a58"
   },
   "outputs": [
    {
     "name": "stdout",
     "output_type": "stream",
     "text": [
      "No weights passed, training from scratch\n",
      "Model: \"LeNet\"\n",
      "_________________________________________________________________\n",
      "Layer (type)                 Output Shape              Param #   \n",
      "=================================================================\n",
      "input_1 (InputLayer)         [(None, 32, 32, 3)]       0         \n",
      "_________________________________________________________________\n",
      "conv2d (Conv2D)              (None, 32, 32, 16)        1216      \n",
      "_________________________________________________________________\n",
      "max_pooling2d (MaxPooling2D) (None, 16, 16, 16)        0         \n",
      "_________________________________________________________________\n",
      "conv2d_1 (Conv2D)            (None, 16, 16, 32)        12832     \n",
      "_________________________________________________________________\n",
      "max_pooling2d_1 (MaxPooling2 (None, 8, 8, 32)          0         \n",
      "_________________________________________________________________\n",
      "conv2d_2 (Conv2D)            (None, 8, 8, 64)          18496     \n",
      "_________________________________________________________________\n",
      "max_pooling2d_2 (MaxPooling2 (None, 4, 4, 64)          0         \n",
      "_________________________________________________________________\n",
      "conv2d_3 (Conv2D)            (None, 4, 4, 128)         73856     \n",
      "_________________________________________________________________\n",
      "max_pooling2d_3 (MaxPooling2 (None, 2, 2, 128)         0         \n",
      "_________________________________________________________________\n",
      "conv2d_4 (Conv2D)            (None, 2, 2, 256)         295168    \n",
      "_________________________________________________________________\n",
      "max_pooling2d_4 (MaxPooling2 (None, 1, 1, 256)         0         \n",
      "_________________________________________________________________\n",
      "flatten (Flatten)            (None, 256)               0         \n",
      "_________________________________________________________________\n",
      "dense (Dense)                (None, 1000)              257000    \n",
      "_________________________________________________________________\n",
      "dense_1 (Dense)              (None, 100)               100100    \n",
      "_________________________________________________________________\n",
      "dense_2 (Dense)              (None, 100)               10100     \n",
      "=================================================================\n",
      "Total params: 768,768\n",
      "Trainable params: 768,768\n",
      "Non-trainable params: 0\n",
      "_________________________________________________________________\n"
     ]
    }
   ],
   "source": [
    "from models.model_factory import make_model\n",
    "\n",
    "models = []\n",
    "for network in args['networks']:\n",
    "    #------------------------------ Make the model -----------------------------------#\n",
    "    model = make_model(network, x_train.shape[1:], nr_classes)\n",
    "\n",
    "    if 'weights' not in args:\n",
    "        print('No weights passed, training from scratch')\n",
    "    else:\n",
    "        weights_path = args['weights']\n",
    "        print('Loading weights from {}'.format(weights_path))\n",
    "        model.load_weights(weights_path, by_name=True)\n",
    "\n",
    "    #------------------------------ Compile the model -----------------------------------#\n",
    "    model.compile(loss=args['loss'], optimizer=optimizer, metrics=['accuracy']) \n",
    "    model.summary()\n",
    "    models.append(model)"
   ]
  },
  {
   "cell_type": "markdown",
   "metadata": {
    "id": "mSADHpegzLb-"
   },
   "source": [
    "# **Training**"
   ]
  },
  {
   "cell_type": "code",
   "execution_count": null,
   "metadata": {
    "colab": {
     "base_uri": "https://localhost:8080/"
    },
    "id": "cSWGGh32Svnu",
    "outputId": "811c20e2-dfec-47bd-9f20-fdd6d0790011"
   },
   "outputs": [
    {
     "name": "stdout",
     "output_type": "stream",
     "text": [
      "Training model LeNet\n",
      "Epoch 1/10\n",
      " 898/1562 [================>.............] - ETA: 1:00 - loss: 4.7374 - accuracy: 0.0079"
     ]
    }
   ],
   "source": [
    "args['models_dir'] = 'nn_models_checkpoints'\n",
    "\n",
    "if args['training']:\n",
    "    histories = {}\n",
    "    for model in models:\n",
    "    print(\"Training model {}\".format(model.name))\n",
    "    #------------------------------ Model check points -----------------------------------#\n",
    "    best_model_file = '{}/best_{}.h5'.format(args['models_dir'], model.name)\n",
    "    last_model_file = '{}/last_{}.h5'.format(args['models_dir'], model.name)\n",
    "    model_file = '{}/model_{}.h5'.format(args['models_dir'], model.name)\n",
    "\n",
    "    #------------------------------ Callbacks -----------------------------------#\n",
    "    callbacks = [\n",
    "            # Callback to reduce the learning rate once the plateau has been reached:\n",
    "            ReduceLROnPlateau(\n",
    "                monitor='val_loss',\n",
    "                factor=1/3,\n",
    "                patience=2,\n",
    "                mode='auto',\n",
    "                verbose=1,\n",
    "                cooldown=0,\n",
    "                min_lr=1e-8\n",
    "            ),\n",
    "            # Callback to stop the training once no more improvements are recorded:\n",
    "            EarlyStopping(\n",
    "                min_delta=0.001,\n",
    "                verbose=1,\n",
    "                patience=5,\n",
    "                mode='auto',\n",
    "                restore_best_weights=True\n",
    "            ),\n",
    "            # Callback to log the graph, losses and metrics into TensorBoard:\n",
    "            TensorBoard(log_dir=\"logs/{}\".format(model.name)\n",
    "            ),\n",
    "            # Callback to save the best and last model specifying the epoch and val-loss in the filename:\n",
    "            ModelCheckpoint(filepath=last_model_file, \n",
    "                monitor='val_loss',\n",
    "                verbose=1,\n",
    "                mode='min',\n",
    "                save_freq='epoch',\n",
    "                save_best_only=False,\n",
    "                save_weights_only=False\n",
    "            ),\n",
    "            ModelCheckpoint(filepath=best_model_file, \n",
    "                monitor='val_loss',\n",
    "                verbose=1,\n",
    "                mode='min',\n",
    "                save_freq='epoch',\n",
    "                save_best_only=True,\n",
    "                save_weights_only=False)\n",
    "        ]\n",
    "\n",
    "    #------------------------------ Model Fit -----------------------------------#\n",
    "    steps = int(x_train.shape[0] /args['batch_size'])\n",
    "    history = model.fit(\n",
    "                        train_generator,\n",
    "                        steps_per_epoch=steps,\n",
    "                        epochs=args['epochs'],\n",
    "                        validation_data=validation_generator,\n",
    "                        callbacks=callbacks)\n",
    "    histories[model.name] = history\n",
    "\n",
    "    #------------------------------ Save the last model weights -----------------------------------#\n",
    "    model.save(model_file)\n",
    "    print(\"Saved model to disk\") "
   ]
  },
  {
   "cell_type": "markdown",
   "metadata": {
    "id": "lI4rNBwYgXwv"
   },
   "source": [
    "# **Visualise Model Results**"
   ]
  },
  {
   "cell_type": "code",
   "execution_count": null,
   "metadata": {
    "id": "-tUF9-UtppQx"
   },
   "outputs": [],
   "source": [
    "#------------------------------ Plot diagnostic learning curves -----------------------------------#\n",
    "def summarize_diagnostics(history, model_name):\n",
    "    # plot loss\n",
    "    acc = history.history['accuracy']\n",
    "    val_acc = history.history['val_accuracy']\n",
    "    loss = history.history['loss']\n",
    "    val_loss = history.history['val_loss']\n",
    "\n",
    "    epochs_range = range(len(acc))\n",
    "\n",
    "    plt.figure(figsize=(15, 15))\n",
    "    plt.plot(epochs_range, acc, label='Training Accuracy')\n",
    "    plt.plot(epochs_range, val_acc, label='Validation Accuracy')\n",
    "    plt.legend(loc='lower right')\n",
    "    plt.title('Training and Validation Accuracy')\n",
    "\n",
    "    # save plot to file\n",
    "    filename = \"accuracy_\" + model_name \n",
    "    plt.savefig(filename + '_plot.png')\n",
    "    plt.show()\n",
    "    plt.close()\n",
    "\n",
    "    plt.figure(figsize=(15, 15))\n",
    "    plt.plot(epochs_range, loss, label='Training Loss')\n",
    "    plt.plot(epochs_range, val_loss, label='Validation Loss')\n",
    "    plt.legend(loc='upper right')\n",
    "    plt.title('Training and Validation Loss')\n",
    "    \n",
    "    # save plot to file\n",
    "    filename = \"loss_\" + model_name \n",
    "    plt.savefig(filename + '_plot.png')\n",
    "    plt.show()\n",
    "    plt.close()\n",
    "\n",
    "if args['training']:  \n",
    "    for model_name in histories:\n",
    "        summarize_diagnostics(histories[model_name], model_name)\n",
    "\n"
   ]
  },
  {
   "cell_type": "markdown",
   "metadata": {
    "id": "rg9NFaPNzLcH"
   },
   "source": [
    "# **Evaluation**\n",
    "\n",
    "Evaluate the model over the test dataset. We will use the last model weights and predict the class for some test images"
   ]
  },
  {
   "cell_type": "code",
   "execution_count": null,
   "metadata": {
    "id": "_HGuxPkippQy"
   },
   "outputs": [],
   "source": [
    "try:\n",
    "    del models\n",
    "except:\n",
    "    print('No models exists')\n",
    "gc.collect\n",
    "\n",
    "def show_image_prediction(loaded_model, n_images):\n",
    "    #Try out the model on an image from the test data:\n",
    "    fig, axs = plt.subplots(1, n_images, figsize=(12, 12))\n",
    "    fig.tight_layout(pad=1.0)\n",
    "\n",
    "    # View the images\n",
    "    for i in range(n_images):\n",
    "        index = random.randint(0, len(x_test))\n",
    "        image = x_test[index].squeeze()\n",
    "        true_index = int(y_test[index])\n",
    "\n",
    "        prediction_scores = loaded_model.predict(np.expand_dims(image, axis=0))\n",
    "        predicted_index = np.argmax(prediction_scores)\n",
    "\n",
    "        image = np.add(image*128,128).astype(int)\n",
    "        axs[i].imshow(image)\n",
    "        axs[i].set_title(\"True Label = {0}, \\n Predicted label = {1}\".format(class_names[true_index], class_names[predicted_index]))\n",
    "        axs[i].get_xaxis().set_visible(False)\n",
    "        axs[i].get_yaxis().set_visible(False)\n",
    "\n",
    "#------------------------------ Predict on some test images -----------------------------------#\n",
    "plt.figure(figsize=(30, 30))\n",
    "i=1\n",
    "for network in args['networks']:\n",
    "    plt.subplot(1, len(args['networks']), i)\n",
    "    #Load last model parameters\n",
    "    last_model_file = '{}/last_{}.h5'.format(args['models_dir'], network)\n",
    "    best_model_file = '{}/best_{}.h5'.format(args['models_dir'], network)\n",
    "    model_file = '{}/model_{}.h5'.format(args['models_dir'], network)\n",
    "\n",
    "    #model = make_model(network, x_train.shape[1:], nr_classes)\n",
    "    #model.load_weights(best_model_file)\n",
    "\n",
    "    #Load the model\n",
    "    loaded_model = load_model(model_file)\n",
    "    print(\"Loaded model {} from disk\".format(model_file))\n",
    "    loaded_model.compile(loss=args['loss'], optimizer=optimizer, metrics=['accuracy']) \n",
    "\n",
    "    #Try out the model on an image from the test data:\n",
    "    #show_image_prediction(loaded_model, 5)\n",
    "\n",
    "    #------------------------------ Evaluate model on testing dataset -----------------------------------#\n",
    "    #_, acc = loaded_model.evaluate(x_train, y_train, verbose=0)\n",
    "    #print(\"Training accuracy of model {0} = {1}\".format(loaded_model.name, acc))\n",
    "    #_, acc = loaded_model.evaluate(x_test, y_test, verbose=0)\n",
    "    #print(\"Testing accuracy of model {0} = {1}\".format(loaded_model.name, acc)) \n",
    "\n",
    "    #------------------------------ Plot all model results -----------------------------------#\n",
    "    # save plot to file\n",
    "    filename = \"accuracy_\" + network + '_plot.png'\n",
    "    im = cv2.imread(filename)\n",
    "    plt.imshow(im)\n",
    "    plt.title(\"Accuray Results of model {}\".format(network))\n",
    "    i = i + 1\n",
    "\n",
    "plt.show()\n",
    "plt.close()"
   ]
  },
  {
   "cell_type": "markdown",
   "metadata": {
    "id": "GfrD3I1TYU8L"
   },
   "source": [
    "**Future Work**\n",
    "\n",
    "In this project I applied transfer learning to several pre-trained models and train added fully connected layer parameters with the new dataset. However I could fine-tune "
   ]
  },
  {
   "cell_type": "code",
   "execution_count": null,
   "metadata": {
    "id": "LPWtblE5YWzW"
   },
   "outputs": [],
   "source": []
  }
 ],
 "metadata": {
  "accelerator": "GPU",
  "colab": {
   "collapsed_sections": [],
   "name": "image_classification_main.ipynb",
   "provenance": []
  },
  "kernelspec": {
   "display_name": "Python 3",
   "language": "python",
   "name": "python3"
  },
  "language_info": {
   "codemirror_mode": {
    "name": "ipython",
    "version": 3
   },
   "file_extension": ".py",
   "mimetype": "text/x-python",
   "name": "python",
   "nbconvert_exporter": "python",
   "pygments_lexer": "ipython3",
   "version": "3.6.10"
  }
 },
 "nbformat": 4,
 "nbformat_minor": 4
}
